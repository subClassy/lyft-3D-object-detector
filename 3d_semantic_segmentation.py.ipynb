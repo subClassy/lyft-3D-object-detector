{
 "cells": [
  {
   "cell_type": "code",
   "execution_count": 8,
   "metadata": {
    "collapsed": true
   },
   "outputs": [],
   "source": [
    "import json\n",
    "import os\n",
    "import os.path\n",
    "import numpy as np\n",
    "import pandas as pd\n",
    "import random\n",
    "import itertools\n",
    "import copy\n",
    "import math\n",
    "from matplotlib import pyplot as plt\n",
    "from pyquaternion import Quaternion\n",
    "from matplotlib import pyplot\n",
    "from mpl_toolkits.mplot3d import Axes3D\n",
    "from skimage.morphology import convex_hull_image\n",
    "\n",
    "import tensorflow as tf\n",
    "\n",
    "from tensorflow.keras import backend as K\n",
    "from tensorflow.python.keras.layers.merge import concatenate\n",
    "\n",
    "K.set_image_data_format(\"channels_first\")"
   ]
  },
  {
   "cell_type": "code",
   "execution_count": 10,
   "outputs": [
    {
     "name": "stdout",
     "output_type": "stream",
     "text": [
      "['data', 'images', 'lidar', 'maps', 'sample_submission.csv', 'test_data', 'test_images', 'test_lidar', 'test_maps', 'train.csv']\n"
     ]
    }
   ],
   "source": [
    "print(os.listdir('./3d-object-detection-for-autonomous-vehicles'))"
   ],
   "metadata": {
    "collapsed": false,
    "pycharm": {
     "name": "#%%\n"
    }
   }
  },
  {
   "cell_type": "code",
   "execution_count": 13,
   "outputs": [],
   "source": [
    "class Table:\n",
    "    def __init__(self, data):\n",
    "        self.data = data\n",
    "        self.index = {x['token']: x for x in data}\n",
    "\n",
    "DATA_PATH = './3d-object-detection-for-autonomous-vehicles'\n",
    "\n",
    "def load_table(name, root=os.path.join(DATA_PATH, 'data')):\n",
    "    with open(os.path.join(root, name), 'rb') as f:\n",
    "        return Table(json.load(f))\n",
    "\n",
    "scene = load_table('scene.json')\n",
    "sample = load_table('sample.json')\n",
    "sample_data = load_table('sample_data.json')\n",
    "ego_pose = load_table('ego_pose.json')\n",
    "calibrated_sensor = load_table('calibrated_sensor.json')"
   ],
   "metadata": {
    "collapsed": false,
    "pycharm": {
     "name": "#%%\n"
    }
   }
  },
  {
   "cell_type": "code",
   "execution_count": 14,
   "outputs": [],
   "source": [
    "train_df = pd.read_csv(os.path.join(DATA_PATH, 'train.csv')).set_index('Id')"
   ],
   "metadata": {
    "collapsed": false,
    "pycharm": {
     "name": "#%%\n"
    }
   }
  }
 ],
 "metadata": {
  "kernelspec": {
   "name": "pycharm-1ade1289",
   "language": "python",
   "display_name": "PyCharm (lyft3DObjectDetection)"
  },
  "language_info": {
   "codemirror_mode": {
    "name": "ipython",
    "version": 2
   },
   "file_extension": ".py",
   "mimetype": "text/x-python",
   "name": "python",
   "nbconvert_exporter": "python",
   "pygments_lexer": "ipython2",
   "version": "2.7.6"
  }
 },
 "nbformat": 4,
 "nbformat_minor": 0
}